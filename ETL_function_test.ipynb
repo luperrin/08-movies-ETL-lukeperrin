{
 "cells": [
  {
   "cell_type": "code",
   "execution_count": 10,
   "metadata": {},
   "outputs": [],
   "source": [
    "import json\n",
    "import pandas as pd\n",
    "import numpy as np\n",
    "\n",
    "import re\n",
    "\n",
    "from sqlalchemy import create_engine\n",
    "import psycopg2\n",
    "\n",
    "from config import db_password\n",
    "\n",
    "import time\n",
    "\n",
    "datafile_dir = '/Users/lukeperrin/Documents/UCB Data Bootcamp/github-repositories/08-movies-ETL-lukeperrin/data/'\n",
    "\n",
    "\n",
    "# 1. Create a function that takes in three arguments;\n",
    "# Wikipedia data, Kaggle metadata, and MovieLens rating data (from Kaggle)\n",
    "\n",
    "def extract_transform_load():\n",
    "    # 2. Read in the kaggle metadata and MovieLens ratings CSV files as Pandas DataFrames.\n",
    "    kaggle_metadata = pd.read_csv(f'{datafile_dir}movies_metadata.csv', low_memory=False)\n",
    "    ratings = pd.read_csv(f'{datafile_dir}ratings.csv')\n",
    "\n",
    "    # 3. Open the read the Wikipedia data JSON file.\n",
    "    with open(f'{datafile_dir}/wikipedia-movies.json', mode='r') as file:\n",
    "        wiki_movies_raw = json.load(file)\n",
    "    \n",
    "    # 4. Read in the raw wiki movie data as a Pandas DataFrame.\n",
    "    wiki_movies_df = pd.DataFrame(wiki_movies_raw)\n",
    "    # 5. Return the three DataFrames\n",
    "    return wiki_movies_df, kaggle_metadata, ratings\n",
    "\n",
    "# 6 Create the path to your file directory and variables for the three files. \n",
    "\n",
    "# Wikipedia data\n",
    "wiki_file = f'{datafile_dir}/wikipedia_movies.json'\n",
    "# Kaggle metadata\n",
    "kaggle_file = f'{datafile_dir}/movies_metadata.csv'\n",
    "# MovieLens rating data.\n",
    "ratings_file = f'{datafile_dir}/ratings.csv'\n",
    "\n",
    "# 7. Set the three variables in Step 6 equal to the function created in Step 1.\n",
    "wiki_file, kaggle_file, ratings_file = extract_transform_load()"
   ]
  },
  {
   "cell_type": "code",
   "execution_count": 11,
   "metadata": {},
   "outputs": [],
   "source": [
    "# 8. Set the DataFrames from the return statement equal to the file names in Step 6. \n",
    "wiki_movies_df = wiki_file\n",
    "kaggle_metadata = kaggle_file\n",
    "ratings = ratings_file"
   ]
  },
  {
   "cell_type": "code",
   "execution_count": 12,
   "metadata": {},
   "outputs": [
    {
     "ename": "TypeError",
     "evalue": "'Index' object is not callable",
     "output_type": "error",
     "traceback": [
      "\u001B[0;31m---------------------------------------------------------------------------\u001B[0m",
      "\u001B[0;31mTypeError\u001B[0m                                 Traceback (most recent call last)",
      "\u001B[0;32m/var/folders/x9/d6jk0sqn1yb_79h50c2zbns80000gn/T/ipykernel_11084/2112326516.py\u001B[0m in \u001B[0;36m<module>\u001B[0;34m\u001B[0m\n\u001B[1;32m      1\u001B[0m \u001B[0;31m# 9. Check the wiki_movies_df DataFrame.\u001B[0m\u001B[0;34m\u001B[0m\u001B[0;34m\u001B[0m\u001B[0m\n\u001B[0;32m----> 2\u001B[0;31m \u001B[0mwiki_movies_columns\u001B[0m \u001B[0;34m=\u001B[0m \u001B[0mwiki_movies_df\u001B[0m\u001B[0;34m.\u001B[0m\u001B[0mcolumns\u001B[0m\u001B[0;34m(\u001B[0m\u001B[0;34m)\u001B[0m\u001B[0;34m.\u001B[0m\u001B[0mto_list\u001B[0m\u001B[0;34m(\u001B[0m\u001B[0;34m)\u001B[0m\u001B[0;34m\u001B[0m\u001B[0;34m\u001B[0m\u001B[0m\n\u001B[0m\u001B[1;32m      3\u001B[0m \u001B[0mwiki_movies_columns\u001B[0m\u001B[0;34m\u001B[0m\u001B[0;34m\u001B[0m\u001B[0m\n",
      "\u001B[0;31mTypeError\u001B[0m: 'Index' object is not callable"
     ]
    }
   ],
   "source": [
    "# 9. Check the wiki_movies_df DataFrame.\n",
    "wiki_movies_columns = wiki_movies_df.columns().to_list()\n",
    "wiki_movies_columns"
   ]
  },
  {
   "cell_type": "code",
   "execution_count": null,
   "metadata": {},
   "outputs": [],
   "source": [
    "# 10. Check the kaggle_metadata DataFrame.\n",
    "kaggle_metadata.head()"
   ]
  },
  {
   "cell_type": "code",
   "execution_count": 7,
   "metadata": {},
   "outputs": [
    {
     "data": {
      "text/plain": "          userId  movieId  rating   timestamp\n0              1      110     1.0  1425941529\n1              1      147     4.5  1425942435\n2              1      858     5.0  1425941523\n3              1     1221     5.0  1425941546\n4              1     1246     5.0  1425941556\n...          ...      ...     ...         ...\n26024284  270896    58559     5.0  1257031564\n26024285  270896    60069     5.0  1257032032\n26024286  270896    63082     4.5  1257031764\n26024287  270896    64957     4.5  1257033990\n26024288  270896    71878     2.0  1257031858\n\n[26024289 rows x 4 columns]",
      "text/html": "<div>\n<style scoped>\n    .dataframe tbody tr th:only-of-type {\n        vertical-align: middle;\n    }\n\n    .dataframe tbody tr th {\n        vertical-align: top;\n    }\n\n    .dataframe thead th {\n        text-align: right;\n    }\n</style>\n<table border=\"1\" class=\"dataframe\">\n  <thead>\n    <tr style=\"text-align: right;\">\n      <th></th>\n      <th>userId</th>\n      <th>movieId</th>\n      <th>rating</th>\n      <th>timestamp</th>\n    </tr>\n  </thead>\n  <tbody>\n    <tr>\n      <th>0</th>\n      <td>1</td>\n      <td>110</td>\n      <td>1.0</td>\n      <td>1425941529</td>\n    </tr>\n    <tr>\n      <th>1</th>\n      <td>1</td>\n      <td>147</td>\n      <td>4.5</td>\n      <td>1425942435</td>\n    </tr>\n    <tr>\n      <th>2</th>\n      <td>1</td>\n      <td>858</td>\n      <td>5.0</td>\n      <td>1425941523</td>\n    </tr>\n    <tr>\n      <th>3</th>\n      <td>1</td>\n      <td>1221</td>\n      <td>5.0</td>\n      <td>1425941546</td>\n    </tr>\n    <tr>\n      <th>4</th>\n      <td>1</td>\n      <td>1246</td>\n      <td>5.0</td>\n      <td>1425941556</td>\n    </tr>\n    <tr>\n      <th>...</th>\n      <td>...</td>\n      <td>...</td>\n      <td>...</td>\n      <td>...</td>\n    </tr>\n    <tr>\n      <th>26024284</th>\n      <td>270896</td>\n      <td>58559</td>\n      <td>5.0</td>\n      <td>1257031564</td>\n    </tr>\n    <tr>\n      <th>26024285</th>\n      <td>270896</td>\n      <td>60069</td>\n      <td>5.0</td>\n      <td>1257032032</td>\n    </tr>\n    <tr>\n      <th>26024286</th>\n      <td>270896</td>\n      <td>63082</td>\n      <td>4.5</td>\n      <td>1257031764</td>\n    </tr>\n    <tr>\n      <th>26024287</th>\n      <td>270896</td>\n      <td>64957</td>\n      <td>4.5</td>\n      <td>1257033990</td>\n    </tr>\n    <tr>\n      <th>26024288</th>\n      <td>270896</td>\n      <td>71878</td>\n      <td>2.0</td>\n      <td>1257031858</td>\n    </tr>\n  </tbody>\n</table>\n<p>26024289 rows × 4 columns</p>\n</div>"
     },
     "execution_count": 7,
     "metadata": {},
     "output_type": "execute_result"
    }
   ],
   "source": [
    "# 11. Check the ratings DataFrame.\n",
    "ratings"
   ]
  },
  {
   "cell_type": "code",
   "execution_count": null,
   "metadata": {},
   "outputs": [],
   "source": []
  }
 ],
 "metadata": {
  "kernelspec": {
   "display_name": "PythonData",
   "language": "python",
   "name": "pythondata"
  },
  "language_info": {
   "codemirror_mode": {
    "name": "ipython",
    "version": 3
   },
   "file_extension": ".py",
   "mimetype": "text/x-python",
   "name": "python",
   "nbconvert_exporter": "python",
   "pygments_lexer": "ipython3",
   "version": "3.7.7"
  }
 },
 "nbformat": 4,
 "nbformat_minor": 2
}